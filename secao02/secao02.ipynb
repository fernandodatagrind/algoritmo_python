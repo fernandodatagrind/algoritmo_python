{
  "nbformat": 4,
  "nbformat_minor": 0,
  "metadata": {
    "colab": {
      "name": "secao02.ipynb",
      "provenance": [],
      "collapsed_sections": []
    },
    "kernelspec": {
      "name": "python3",
      "display_name": "Python 3"
    },
    "language_info": {
      "name": "python"
    }
  },
  "cells": [
    {
      "cell_type": "markdown",
      "source": [
        "#2 - Faça um algoritmo para somar dois números e multiplicar o resultado pelo primeiro número.\n",
        "\n",
        "##\"somar e multiplicar\"\n",
        "\n",
        "- receber o primeiro número \n",
        "- Receber o segundo número\n",
        "- Somar o primeiro número com o segundo número\n",
        "- Multiplicar o resultado da soma pelo primeiro número \n",
        "- mostrar o resultado da multiplicação"
      ],
      "metadata": {
        "id": "NSSWOP3jLqrf"
      }
    },
    {
      "cell_type": "code",
      "source": [
        "#entradas\n",
        "num1 = int(input('Digite o primeiro número: '))\n",
        "num2 = int(input('Digite o segundo número: '))\n",
        "#processamento\n",
        "soma = num1 + num2\n",
        "multiplicacao = soma * num1\n",
        "#saida\n",
        "print(f'O resultado da multiplicação é {multiplicacao}.')\n"
      ],
      "metadata": {
        "id": "GgWy1b6PIhb2"
      },
      "execution_count": null,
      "outputs": []
    }
  ]
}