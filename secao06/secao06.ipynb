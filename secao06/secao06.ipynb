{
  "nbformat": 4,
  "nbformat_minor": 0,
  "metadata": {
    "colab": {
      "name": "secao06.ipynb",
      "provenance": [],
      "collapsed_sections": []
    },
    "kernelspec": {
      "name": "python3",
      "display_name": "Python 3"
    },
    "language_info": {
      "name": "python"
    }
  },
  "cells": [
    {
      "cell_type": "markdown",
      "source": [
        "# Exercícios - Operadores \n",
        "<br>\n",
        "\n",
        "### 1 - Tendo as variáveis salario, ir e sallinq, e considerando os valores abaixo, informe se as expressões são verdadeiras ou falsas.\n",
        "<br><br>\n",
        "\n",
        "| **salario** |**ir**  |**salliq** |**expresão** | **verdadeiro ou falso** |\n",
        "|--|--|---|---|---|\n",
        "| 100,00 |0,00  |100,00 |(salliq >= 100,00) | Verdadeiro|\n",
        "| 200,00 | 10,00 | 190,00 |(salliq < 190,00) | Falso |\n",
        "| 300,00 | 15,00 | 285,00 |(salliq = salario + ir) | Falso|\n",
        "\n",
        "<br><br>\n",
        "\n",
        "---\n",
        "<br>\n",
        "\n",
        "### 2 - Sabendo que a = 3, b = 7 e c = 4, informe se as expressões abaixo são verdadeiras ou falsas.\n",
        "\n",
        "<br><br>\n",
        "\n",
        "> ### a) (a+c) > b      \n",
        "( )verdadeira   ( X )falsa\n",
        " \n",
        " <br>\n",
        "\n",
        "> ### b) b >= (a+2)\n",
        "( x )verdadeira   ( )falsa\n",
        "\n",
        " <br>\n",
        "\n",
        "> ### c) c == (b-a)\n",
        "( X )verdadeira   ( )falsa\n",
        "\n",
        " <br>\n",
        "\n",
        "> ### d) (b+a) <= c\n",
        "( )verdadeira   ( X )falsa\n",
        "\n",
        " <br>\n",
        "\n",
        "> ### e) (c+a) > b\n",
        "( )verdadeira   ( X )falsa\n",
        "\n",
        "---\n",
        "<br>\n",
        "\n",
        "### 3 - Sabendo que a = 5, b = 4 e c = 3 e d = 6, informe se as expressões abaixo são verdadeiras ou falsas.\n",
        "<br>\n",
        "\n",
        "> ### (a+c) > b\n",
        "( X )verdadeira ( )falsa\n",
        "\n",
        "<br>\n",
        "\n",
        ">### (a+b) > 10 OR (a+b) == (c+d)\n",
        "( X )verdadeira ( )falsa\n",
        "\n",
        "<br>\n",
        "\n",
        ">### (a>=c) AND (d>=c)\n",
        "( X )verdadeira ( )falsa\n",
        "\n",
        "\n",
        "\n"
      ],
      "metadata": {
        "id": "bBPVMux7gnmL"
      }
    }
  ]
}