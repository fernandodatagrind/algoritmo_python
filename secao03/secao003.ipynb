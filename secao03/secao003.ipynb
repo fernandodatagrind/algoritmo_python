{
  "nbformat": 4,
  "nbformat_minor": 0,
  "metadata": {
    "colab": {
      "name": "secao003.ipynb",
      "provenance": [],
      "collapsed_sections": []
    },
    "kernelspec": {
      "name": "python3",
      "display_name": "Python 3"
    },
    "language_info": {
      "name": "python"
    }
  },
  "cells": [
    {
      "cell_type": "markdown",
      "source": [
        "# Exercicios\n",
        "\n",
        "##1 - Indentifique os dados de entrada, processamento e saída no algoritmo abaixo: \n",
        "\n",
        "1. receber código da peça \n",
        "1. receber valor da peça\n",
        "1. calcular o valor total da peça (quantidade * valor da peça)\n",
        "1. mostrar o código da peça e seu valor total\n",
        "\n",
        "\n",
        "### entrada:\n",
        "1. receber o código da peça\n",
        "1. receber i valor da peça\n",
        "\n",
        "### processamento:\n",
        "1. calcular o valor total da peça (quantidade * valor da peça)\n",
        "\n",
        "### saída:\n",
        "1. mostrar o código da peça e seu valor total\n",
        "\n",
        "\n",
        "##2 - Faça um algoritmo para \"Calcular o estoque médio de um peça\", sendo que:\n",
        "\n",
        "estoque médio = (quatidade mínina + quantidade máxima) / 2\n",
        "\n",
        "**estoque médio**\n",
        "\n",
        "1. receber a quantidade mínina de peça\n",
        "2. receber a quantidade máxima de peça\n",
        "3. somar a quantidade mínina e quantidade máxima\n",
        "4. dividir o resultado da soma por 2\n",
        "5. mostrar o resultado da divisão\n",
        "\n",
        "\n",
        "\n"
      ],
      "metadata": {
        "id": "cDchrHFFu97m"
      }
    },
    {
      "cell_type": "code",
      "source": [
        "#entrada\n",
        "quantidade_minima = int(input('Informe a quantidade mínima de peças: '))\n",
        "quantidade_maxima = int(input('informe a qauntidade máxima de peças: '))\n",
        "#processamento\n",
        "estoque_medio = (quantidade_minima + quantidade_maxima) / 2\n",
        "#saida\n",
        "print(f'O estoque médio é {estoque_medio} peças.')"
      ],
      "metadata": {
        "id": "kcShkabpFQ6W"
      },
      "execution_count": null,
      "outputs": []
    },
    {
      "cell_type": "markdown",
      "source": [
        "##3 - Teste o algoritimo anterior com dados definidos por você.\n",
        "\n",
        "| **quatidade minima** |**quantidade máxima**  |**estoque médio** |\n",
        "|--|--|---|\n",
        "| 50 |230  |150 |\n",
        "| 30 | 130 | 80 |\n",
        "| 380 | 30 | 205 |\n",
        "\n",
        "\n",
        "###4 - Faça um algoritmo que peça dois números e imprima a soma.\n",
        "\n",
        "**\"Soma dos números\"**\n",
        "\n",
        "1. receber o primeiro número\n",
        "2. receber o segundo número\n",
        "3. somar o primeiro com o segundo número\n",
        "4. mostrar o resultado da soma\n",
        "\n"
      ],
      "metadata": {
        "id": "l2PXd5SYFm6s"
      }
    },
    {
      "cell_type": "code",
      "source": [
        "#entrada\n",
        "num1 = int(input('Informe o primeiro número: '))\n",
        "num2 = int(input('Informe o segundo número: '))\n",
        "#processamento\n",
        "soma = num1 + num2\n",
        "#saida\n",
        "print(f'O resultado da soma é {soma}')"
      ],
      "metadata": {
        "id": "Qd2tY3zBGYGW"
      },
      "execution_count": null,
      "outputs": []
    },
    {
      "cell_type": "markdown",
      "source": [
        "###5 - Faça um algoritmo que converte metros em centímetros.\n",
        "\n",
        "formula : metros * 100 \n",
        "\n",
        "**\"converte metros em centimetros\"**\n",
        "\n",
        "1. receber o valor em metros\n",
        "2. multiplicar os metros por 100 \n",
        "3. mostrar o resultado da multiplição"
      ],
      "metadata": {
        "id": "HNrAZi2NGcZd"
      }
    },
    {
      "cell_type": "code",
      "source": [
        "#entrada\n",
        "metros = int(input('Informe o valor em metros: '))\n",
        "#procesamento\n",
        "centimetros = metros * 100\n",
        "#saida\n",
        "print(f'{metros} Metros em centímetros é {centimetros}.')\n"
      ],
      "metadata": {
        "id": "HZ9wE_o2GfqN"
      },
      "execution_count": null,
      "outputs": []
    },
    {
      "cell_type": "markdown",
      "source": [
        "###6 - Faça um algoritmo que pergunte quanto você ganha por hora e o número de horas trabalhadas no mês. Calcule e mostre o total do seu salário no referido mês.\n",
        "\n",
        "\n",
        "**\"\"calculo salário\"\"**\n",
        "\n",
        "1. receber a qauntidade de horas trabalhadas\n",
        "2. recever o valor da hora \n",
        "3. multiplicar o número de horas trabalhadas pelo valor da hora\n",
        "4. mostrar o resultado da multiplicação"
      ],
      "metadata": {
        "id": "SenKVPscGkgd"
      }
    },
    {
      "cell_type": "code",
      "source": [
        "#entrada\n",
        "valor_por_hora = float(input('Informe valor pago por hora: '))\n",
        "horas_trabalhadas = int(input('Informe horas trabalhadas no mês: '))\n",
        "#processamento\n",
        "salario = horas_trabalhadas * valor_por_hora\n",
        "#saida\n",
        "print(f'O valor do salário este mês é R${salario:0.2f}.')\n"
      ],
      "metadata": {
        "id": "egLDmFI6GodM"
      },
      "execution_count": null,
      "outputs": []
    },
    {
      "cell_type": "markdown",
      "source": [
        "###7 - tendo como dados de entrada a altura de uma pessoa, contrua um algoritmo que calcule seu peso ideal, usando a seguinte fórmula:\n",
        "\n",
        "(72.7 * altura) - 58\n",
        "\n",
        "**\"\"calcular o peso ideal\"\"**\n",
        "\n",
        "1. recebe o altura da pessoa \n",
        "2. multiplicar a altura por 72.7\n",
        "3. subtrair resultado da multiplicação por 58\n",
        "4. mostrar resultado da subtração"
      ],
      "metadata": {
        "id": "L1s5slcwGu4k"
      }
    },
    {
      "cell_type": "code",
      "source": [
        "#entrada\n",
        "altura = float(input('Informe sua altura: '))\n",
        "#procesamento\n",
        "peso_ideal = (72.7 * altura) - 58\n",
        "#saida\n",
        "print(f'Seu peso ideal seria {peso_ideal:0.2f}.')"
      ],
      "metadata": {
        "id": "Q7vkPkuAGyTO"
      },
      "execution_count": null,
      "outputs": []
    }
  ]
}