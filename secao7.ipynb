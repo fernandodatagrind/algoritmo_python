{
  "nbformat": 4,
  "nbformat_minor": 0,
  "metadata": {
    "colab": {
      "name": "secao7.ipynb",
      "provenance": [],
      "collapsed_sections": [],
      "authorship_tag": "ABX9TyP4x1zLVVwz9WtCyum8L4kM",
      "include_colab_link": true
    },
    "kernelspec": {
      "name": "python3",
      "display_name": "Python 3"
    },
    "language_info": {
      "name": "python"
    }
  },
  "cells": [
    {
      "cell_type": "markdown",
      "metadata": {
        "id": "view-in-github",
        "colab_type": "text"
      },
      "source": [
        "<a href=\"https://colab.research.google.com/github/fernandodatagrind/algoritmo_python/blob/main/secao7.ipynb\" target=\"_parent\"><img src=\"https://colab.research.google.com/assets/colab-badge.svg\" alt=\"Open In Colab\"/></a>"
      ]
    },
    {
      "cell_type": "markdown",
      "source": [
        "## Exercicio 1  \n",
        "Ler uma variável numérica n e imprimi-la somente se a mesma for maior que 100, caso contrário imprimila com o valor zero.\n",
        "\n",
        "- receber valor  \n",
        "se valor < 100 entao  \n",
        " escrever valor  \n",
        "- senao   \n",
        "\tvalor = 0  \n",
        "\tescrever valor\n",
        "\t"
      ],
      "metadata": {
        "id": "RdWyb1XzRqpu"
      }
    },
    {
      "cell_type": "code",
      "execution_count": null,
      "metadata": {
        "id": "_sy15zYPRp4e"
      },
      "outputs": [],
      "source": [
        "#entrada\n",
        "n = int(input('Informe um número: '))\n",
        "#processamento\n",
        "if n > 100:\n",
        "    print(n)\n",
        "else:\n",
        "    print(0)\n"
      ]
    },
    {
      "cell_type": "markdown",
      "source": [
        "## Exercicio 2  \n",
        "\n",
        "Elabore um algoritmo que leia um número. Se positivo armazene-o em \"a\"\n",
        "se for negativo, em \"b\". No final mostrar o resultado.  \n",
        "\n",
        "- receber valor\n",
        "se valor > 0  entao  \n",
        "\t* a =  valor  \n",
        "\tescrever \"valor positivo\"  \n",
        "\tescrever a   \n",
        "- senao   \n",
        "\t* b = valor  \n",
        "\tescrever \"valor negativo\"  \n",
        "- escrever b"
      ],
      "metadata": {
        "id": "RgZ_IAO5TSR1"
      }
    },
    {
      "cell_type": "code",
      "source": [
        "#entrada\n",
        "numero = int(input('Informe um número: '))\n",
        "#processamento\n",
        "if numero > 0:\n",
        "    a = numero\n",
        "    print('valor possitivo')\n",
        "else:\n",
        "    b = numero\n",
        "    print('valor negativo')\n",
        "print(numero)\n"
      ],
      "metadata": {
        "id": "K587ASeZT1h9"
      },
      "execution_count": null,
      "outputs": []
    },
    {
      "cell_type": "markdown",
      "source": [
        "## Exercicio 3  \n",
        "\n",
        "Ler um número e verificar se ele é par ou ímpar. Quando for par armazenar \n",
        "esse valor em \"p\" e quando for ímpar armazená-lo em \"i\".\n",
        "Exibir \"p\" e \"i\" no final do processamento.  \n",
        "\n",
        "- p = 0\n",
        "- i = 0   \n",
        "- receber valor   \n",
        "- se (valor % 2 == 0)  \n",
        "\t* p = valor\n",
        "- senao\n",
        "\t* i = valor  \n",
        "escrever p  \n",
        "escrever i\n"
      ],
      "metadata": {
        "id": "SrN-oNqzT2Gf"
      }
    },
    {
      "cell_type": "code",
      "source": [
        "#variaveis\n",
        "p = 0\n",
        "i = 0\n",
        "#entrada\n",
        "numero = int(input('Informe um número: '))\n",
        "#processamento\n",
        "if numero % 2 == 0:\n",
        "    p = numero\n",
        "else:\n",
        "    i = numero\n",
        "print(p)\n",
        "print(i)\n"
      ],
      "metadata": {
        "id": "4TzuEqUhUWs_"
      },
      "execution_count": null,
      "outputs": []
    },
    {
      "cell_type": "markdown",
      "source": [
        "# Exercicio 4  \n",
        "\n",
        "Tendo como dados de entrada a altura e o sexo de uma pessoa, cosntrua\n",
        "um algoritmo que calcule seu peso ideal, utilizando as seguintes fórmulas:\n",
        "Para homens: (72.7 * altura) - 58\n",
        "Para mulheres: (62.1 * altura) - 44.7  \n",
        " \n",
        "- receber  altura \n",
        "- receber sexo\n",
        "- se sexo == 'm' \n",
        "\t* peso_ideal = (72.7 * altura) - 58\n",
        "- se sexo == 'f'\n",
        "\t* peso_ideal = (62.1 * altura) - 44.7\n",
        "- escrever peso_ideal"
      ],
      "metadata": {
        "id": "NG9LQaBFUXid"
      }
    },
    {
      "cell_type": "code",
      "source": [
        "#entrada\n",
        "altura = float(input('Informe sua altura: '))\n",
        "sexo = input('Informe seu sexo m/f: ')\n",
        "#processamento\n",
        "if sexo.lower() == 'm':\n",
        "    peso_ideal = (72.7 * altura) - 58\n",
        "elif sexo.lower() == 'f':\n",
        "    peso_ideal = (62.1 * altura) - 44.7\n",
        "else:\n",
        "    peso_ideal = 0\n",
        "    print('Sexo não reconhecido')\n",
        "#saida\n",
        "print(f'Seu peso ideal é {peso_ideal:0.2f}')\n"
      ],
      "metadata": {
        "id": "fpKWFnbQU26_"
      },
      "execution_count": null,
      "outputs": []
    },
    {
      "cell_type": "markdown",
      "source": [
        "## Exercicio 5 \n",
        "\n",
        "João da Silva, pescador, comprou um microcomputador para controlar o \n",
        "rendimento diário de seu trabalho. Toda vez que ele traz um peso de peixes\n",
        "maior que o estabelecido pelo regulamento de pesca do estado de São Paulo\n",
        "(50 quilos) deve pagar uma multa de R$ 4.00 por quilo excedente.  \n",
        "João precisa que você faça um algoritmo que leia a variável 'p' (peso de peixes)\n",
        "e verifique se há excesso. Se houver, garavar na variável 'e' (excesso)\n",
        "e na variável 'm' o valor da multa que João deverá pagar. Caso contrário mostrar\n",
        "tais variáveis com o conteúdo 'zero'.  \n",
        "\n",
        "- e = 0\n",
        "- m = 0\n",
        "- receber peso \"p\"\n",
        "- se p > 50 entao\n",
        "\t* calcular e = p - 50\n",
        "\t* calcular m = e * 4\n",
        "\t\n",
        "- escrever \"Peso: \" + p\n",
        "- escrever \" Excesso: \" + e\n",
        "- escrever \"Multa:\" + m"
      ],
      "metadata": {
        "id": "Ce5VXi2AU3qG"
      }
    },
    {
      "cell_type": "code",
      "source": [
        "#entrada\n",
        "p = int(input('Informe o peso dos peixes: '))\n",
        "#processamento\n",
        "if p > 50:\n",
        "    m = (p - 50) * 4.00\n",
        "    e = 'excesso'\n",
        "    print(f'Você devera pagar R$ {m:0.2f}')\n",
        "else:\n",
        "    e = 0\n",
        "    m = 0\n",
        "print(f'Peso: {p}')\n",
        "print(f'Excesso: {e}')\n",
        "print(f'Multa: {m}')\n"
      ],
      "metadata": {
        "id": "X1aDbfLKVcGm"
      },
      "execution_count": null,
      "outputs": []
    },
    {
      "cell_type": "markdown",
      "source": [
        "## Exercicio 6 \t\n",
        "\n",
        "Elabore um algoritmo que leia as variáveis 'c' e 'n', respectivamente código \n",
        "e número de horas trabalhadas de um operário. Calcule o salário sabendo-se que\n",
        "ele ganha 10.00 por hora.   \n",
        "Quando o número de horas exceder a 50 calcule o\n",
        "excesso de pagamento armazenado-o na variável 'e'. Caso contrário zerar tal variável.\n",
        "A hora excedente de trabalho vale 20.00. No final do processamento imprimeir o \n",
        "salário total e o salário excedente. \n",
        "\n",
        "- e = 0\n",
        "- receber c \n",
        "- receber n \n",
        "- se n > 50 entao\n",
        "\t* calcular e =  n - 50\n",
        "\t* calcular n = n - e \n",
        "- extra = e * 20\n",
        "- salario = n * 10\n",
        "- escrever \"Salário\" +  salario\n",
        "- escrever \"Extra + extra"
      ],
      "metadata": {
        "id": "Yy5s6FkRVchV"
      }
    },
    {
      "cell_type": "code",
      "source": [
        "#variaveis\n",
        "valor_hora = 10.00\n",
        "valor_hora_excedente = 20.00\n",
        "e = 0\n",
        "#entrada\n",
        "c =int(input('Informe o código: '))\n",
        "n = float(input('Informe a quantidade de horas trabalhadas: '))\n",
        "#processamento\n",
        "if n > 50:\n",
        "    e = (n - 50) * valor_hora_excedente #20.00\n",
        "    salario = (50 * valor_hora) + e #10.00\n",
        "    print(f'Salário total R$ {salario:0.2f}')\n",
        "    print(f'Salário excedente R$ {e:0.2f}')\n",
        "else:\n",
        "    salario = (n * valor_hora) #10.00\n",
        "    print(f'Salário total R$ {salario:0.2f}')\n",
        "    print(f'Salário excedente R$ {e:0.2f}')\n"
      ],
      "metadata": {
        "id": "Y_DB3gkUXDvW"
      },
      "execution_count": null,
      "outputs": []
    },
    {
      "cell_type": "markdown",
      "source": [
        "## Exercicio 7\n",
        "\n",
        "\n",
        "Desenvolva um algoritmo que :  \n",
        "a) Leia 4 (quatro) números;  \n",
        "b) Calcule o quadrado de cada um;  \n",
        "c) Se o valor resultante do quadrado do terceiro for >= 100, imprima-o e finalize;  \n",
        "d) Caso constrario, imprima os valores lidos e seus respectivos quadrados.  \n",
        "\n",
        "- receber n1 \n",
        "- receber n2  \n",
        "- receber n3  \n",
        "- receber n4 \n",
        "\n",
        "- calcular q1 = n1 ** 2\n",
        "- calcular q2 = n2 ** 2\n",
        "- calcular q3 = n3 ** 2\n",
        "- calcular q4 = n4 ** 2\n",
        "- se resultado de q3 >= 100 entao\n",
        "\t* escrever resultado de q3\n",
        "- senao\n",
        "\t\n",
        "\t* escrever resultado de n1, n2, n3, n4\n",
        "\t"
      ],
      "metadata": {
        "id": "uuk0-axbXEQm"
      }
    },
    {
      "cell_type": "code",
      "source": [
        "#entrada\n",
        "num1 = int(input('Informe o número 1: '))\n",
        "num2 = int(input('Informe o número 2: '))\n",
        "num3 = int(input('Informe o número 3: '))\n",
        "num4 = int(input('Informe o número 4: '))\n",
        "#processamento\n",
        "q1 = num1 * num1\n",
        "q2 = num2 * num2\n",
        "q3 = num3 * num3\n",
        "q4 = num4 * num4\n",
        "\n",
        "if q3 >= 1000:\n",
        "    print(q3)\n",
        "else:\n",
        "    print(f'Num1: {num1}, Quadrado: {q1}')\n",
        "    print(f'Num2: {num2}, Quadrado: {q2}')\n",
        "    print(f'Num3: {num3}, Quadrado: {q3}')\n",
        "    print(f'Num4: {num4}, Quadrado: {q4}')\n",
        "    "
      ],
      "metadata": {
        "id": "HmlXI5JDXqag"
      },
      "execution_count": null,
      "outputs": []
    },
    {
      "cell_type": "markdown",
      "source": [
        "## Exercicio 8\n",
        "\n",
        "Faça um algoritmo que leia um número inteiro e mostre uma mensagem \n",
        "indicando se este número e par ou impar, e se é possitivo ou negativo.\n",
        "\n",
        "\n",
        "- receber n1\n",
        "- se (n1 % 2 == 0) entao\n",
        "\t* escrever \"numero par\"\n",
        "- senao\n",
        "\t* escrever \"numero impar\""
      ],
      "metadata": {
        "id": "0-k4ucAJXq7m"
      }
    },
    {
      "cell_type": "code",
      "source": [
        "#entrada\n",
        "numero = int(input('Informe um número: '))\n",
        "#processamento\n",
        "if numero % 2 == 0:\n",
        "    if numero > 0:\n",
        "        print(f'O número {numero} é par e possitivo.')\n",
        "    else:\n",
        "        print(f'O número {numero} é par e negativo.')\n",
        "else:\n",
        "    if numero > 0:\n",
        "        print(f'O número {numero} é impar e possitivo.')\n",
        "    else:\n",
        "        print(f'O número {numero} é impar e negativo.')\n",
        "        "
      ],
      "metadata": {
        "id": "khI-oim0X2a-"
      },
      "execution_count": null,
      "outputs": []
    },
    {
      "cell_type": "markdown",
      "source": [
        "## Exercicio  9\n",
        "\n",
        "A Secretaria de Meio Ambiente que controla o índice de poluição mantén 3\n",
        "grupos de indústrias que são altamente poluentes do meio ambiente. O índice de \n",
        "poluição aceitável varia de 0.5 ate 0.25. Se o índice sobe para 0.3 as indústrias \n",
        "do 1º grupo são intimadas a suspenderem suas atividades, se o índice crescer para 0.4\n",
        "as indúsrias do 1º grupo e 2º grupo são intimadas a sespender suas atividades, se o índice \n",
        "atingir 0.5 todos os grupos devem ser notificados a paralisarem suas atividades.  \n",
        "Faça um algoritmo que leia o índice de poluição medido e emita a notifição adequada aos diferentes \n",
        "grupos de empresas. \n",
        "\n",
        "- receber indice \n",
        "\n",
        "- se (indice >= 0.3) e (poluicao < 0.4) entao \n",
        "\t* escrever \" notificar e supender atividades 1º grupo\"\n",
        "- se (indice >= 0,4) e (indice < 0.5) entao\n",
        "\t* escrever \"notificar e supender atividades 2º e 3º grupos\"\n",
        "- se indice > 0,5) entao\n",
        "\t* escrever \"todos os grupos suspender  atividade\"\n",
        "- senao\n",
        "\t* escrever \"Niveis aceitáveis\""
      ],
      "metadata": {
        "id": "ZDgXdGyiX28l"
      }
    },
    {
      "cell_type": "code",
      "source": [
        "#entrada\n",
        "indice = float(input('Informe o índice de poluição: '))\n",
        "#processamento\n",
        "if indice >= 0.3 and indice < 0.4:\n",
        "    print('Atenção Industrias do 1º Grupo devem suspender as atividades')\n",
        "elif indice >= 0.4 and indice < 0.5:\n",
        "    print('Atenção Industrias do 1º e 2º Grupo devem suspender as atividades')\n",
        "elif indice >= 0.5:\n",
        "    print('Atenção todos os Grupos devem suspender as atividades.')\n"
      ],
      "metadata": {
        "id": "CHj-yi0aYcyW"
      },
      "execution_count": null,
      "outputs": []
    },
    {
      "cell_type": "markdown",
      "source": [
        "## Exercicio 10\n",
        "\n",
        "Elabore um algoritmo que dada idade de um nadador classifique-o em\n",
        "uma das seguintes categorias:  \n",
        "infantil-a = 5 a 7 anos  \n",
        "infantil-b = 8 a 11 anos  \n",
        "juvenil-a = 12 a 13 anos  \n",
        "juvenil-b = 14 a 17 anos  \n",
        "adultos = maiores de 18 anos  \n",
        "  \n",
        "\n",
        "- receber idade\n",
        "- se idade >= 5 e idade <= 7 entao\n",
        "\t* escrever \"infantil-a\"\n",
        "- se idade >= 8 e idade <= 11 entao\n",
        "\t* escrever \"infantil-b\"\n",
        "- se idade >= 12 e idade <= 13 entao\n",
        "\t* escrever \"juvenil-a\"\n",
        "- se idade >= 14 e idade <= 17 entao\n",
        "\t* escrever \"juvenil=b\"\n",
        "- se idade >= 18 entao\n",
        "\t* escrever \"adultos\""
      ],
      "metadata": {
        "id": "0srrRSKqYdLO"
      }
    },
    {
      "cell_type": "code",
      "source": [
        "#entrada\n",
        "idade = int(input('Informe sua idade: '))\n",
        "#procesamento\n",
        "if idade >= 5 and idade <= 7:\n",
        "    print('infamtil A')\n",
        "elif idade >= 8 and idade <= 11:\n",
        "    print('infamtil B')\n",
        "elif idade >= 12 and idade <= 13:\n",
        "    print('juvenil A')\n",
        "elif idade >= 14 and idade <= 17:\n",
        "    print('juvenil B')\n",
        "elif idade >= 18:\n",
        "    print('adulto')\n",
        "    "
      ],
      "metadata": {
        "id": "Yo2F1w7YY3Tz"
      },
      "execution_count": null,
      "outputs": []
    }
  ]
}